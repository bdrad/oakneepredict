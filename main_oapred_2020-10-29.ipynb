{
 "cells": [
  {
   "cell_type": "code",
   "execution_count": 1,
   "metadata": {},
   "outputs": [],
   "source": [
    "import shutil\n",
    "import os\n",
    "\n",
    "import numpy as np\n",
    "import matplotlib\n",
    "#matplotlib.use('Agg')\n",
    "import matplotlib.pyplot as plt\n",
    "from matplotlib import pyplot\n",
    "import pandas as pd\n",
    "\n",
    "import xgboost as xgb\n",
    "from xgboost import XGBClassifier\n",
    "from xgboost import plot_importance\n",
    "    \n",
    "from sklearn import metrics\n",
    "from sklearn.metrics import auc\n",
    "from sklearn.metrics import roc_curve\n",
    "from sklearn.model_selection import GridSearchCV\n",
    "from sklearn.model_selection import StratifiedKFold\n",
    "from sklearn.preprocessing import LabelEncoder"
   ]
  },
  {
   "cell_type": "code",
   "execution_count": 2,
   "metadata": {},
   "outputs": [
    {
     "data": {
      "text/plain": [
       "'C:\\\\Users\\\\sohn\\\\Google Drive\\\\Research\\\\2020 Gabby MSK knee OA prediction'"
      ]
     },
     "execution_count": 2,
     "metadata": {},
     "output_type": "execute_result"
    }
   ],
   "source": [
    "#dataset = pd.read_csv('data20201014/KL234_balanced_5_12_20.dta_forJH_impmedian.csv')\n",
    "\n",
    "#dataset = pd.read_csv('data20201025/KL234_balanced_10_23_20.csv')\n",
    "#dataset = pd.read_csv('data20201025/KL234_doublecontrol_10_23_20.csv')\n",
    "#dataset = pd.read_csv('data20201025/KL234_unbalanced_10_23_20.csv') #does not appear to work for some reason\n",
    "#dataset = pd.read_csv('data20201025/KL234_balanced_10_23_20_only10.csv')\n",
    "#dataset = pd.read_csv('data20201025/KL234_unbalanced_10_23_20_only10.csv') #hyperparameters were optimized for this dataset\n",
    "dataset = pd.read_csv('data20201025/KL234_unbalanced_10_23_20_new.csv')\n",
    "os.getcwd()"
   ]
  },
  {
   "cell_type": "code",
   "execution_count": 3,
   "metadata": {},
   "outputs": [
    {
     "data": {
      "text/plain": [
       "(1044, 114)"
      ]
     },
     "execution_count": 3,
     "metadata": {},
     "output_type": "execute_result"
    }
   ],
   "source": [
    "dataset.shape"
   ]
  },
  {
   "cell_type": "code",
   "execution_count": 4,
   "metadata": {},
   "outputs": [],
   "source": [
    "#Organize Dataset & Generate Train/Test/Val split.\n",
    "trainval_test_rand_seed=45\n",
    "train_val_rand_seed=23\n",
    "\n",
    "X = dataset.iloc[:, 2:113].values\n",
    "#X = dataset\n",
    "y = dataset.iloc[:, 1].values\n",
    "\n",
    "feature_names = dataset.head()\n",
    "featurenames3 = list(feature_names)\n",
    "featurenames4 = featurenames3[2:113]\n",
    "#featurenames4\n",
    "\n",
    "from sklearn.model_selection import train_test_split\n",
    "X_trainval, X_test, Y_trainval, Y_test = train_test_split(X, y, test_size=0.2, random_state=trainval_test_rand_seed)\n",
    "X_train, X_val, Y_train, Y_val = train_test_split(X_trainval, Y_trainval, test_size=0.2, random_state=train_val_rand_seed)\n",
    "\n",
    "D_train = xgb.DMatrix(X_train, label=Y_train, feature_names=featurenames4)\n",
    "D_train.feature_names\n",
    "D_val = xgb.DMatrix(X_val, label=Y_val, feature_names=featurenames4)\n",
    "#D_val.feature_names"
   ]
  },
  {
   "cell_type": "code",
   "execution_count": 140,
   "metadata": {},
   "outputs": [
    {
     "data": {
      "text/plain": [
       "['p01bmi',\n",
       " 'v00age',\n",
       " 'p02sex_01',\n",
       " 'v00womkpr',\n",
       " 'v00remaxf',\n",
       " 'v00rfmaxf',\n",
       " 'ave_t2_v00',\n",
       " 'v00_r_lf_mean_t2',\n",
       " 'v00_r_lt_mean_t2',\n",
       " 'v00_r_mf_mean_t2',\n",
       " 'v00_r_mt_mean_t2',\n",
       " 'v00_r_pat_mean_t2',\n",
       " 'v00_r_cartlesp',\n",
       " 'v00_r_cartlest',\n",
       " 'v00_r_cartlesmfc',\n",
       " 'v00_r_cartleslfc',\n",
       " 'v00_r_cartlesmt',\n",
       " 'v00_r_cartleslt',\n",
       " 'v00_r_menmedanttype',\n",
       " 'v00_r_menmedbodytype',\n",
       " 'v00_r_menmedposttype',\n",
       " 'v00_r_menlatanttype',\n",
       " 'v00_r_menlatbodytype',\n",
       " 'v00_r_menlatposttype',\n",
       " 'v00_r_bmep',\n",
       " 'v00_r_bmet',\n",
       " 'v00_r_bmemfc',\n",
       " 'v00_r_bmelfc',\n",
       " 'v00_r_bmemt',\n",
       " 'v00_r_bmelt',\n",
       " 'menmax_v00',\n",
       " 'cartmax_v00',\n",
       " 'bmemax_v00',\n",
       " 'p02race',\n",
       " 'p02hisp',\n",
       " 'p02kinj',\n",
       " 'v00_r_effusion',\n",
       " 'v00bpsys',\n",
       " 'v00bpdias',\n",
       " 'v00rpavg',\n",
       " 'v00cstime1',\n",
       " 'v00cstime2',\n",
       " 'v00timet1',\n",
       " 'v00rkpatpn',\n",
       " 'v00rkeffb',\n",
       " 'v00rkeffpt',\n",
       " 'v00rkrfxpn',\n",
       " 'v00rklttpn',\n",
       " 'v00rkmttpn',\n",
       " 'v00rkabpn',\n",
       " 'v00rkpfcre',\n",
       " 'v00rkpgdpn',\n",
       " 'v00rlwgt',\n",
       " 'v00abcirc',\n",
       " 'v00rkalnmt',\n",
       " 'v00rftlpl',\n",
       " 'v00rfthpl',\n",
       " 'v00rftlrl',\n",
       " 'v00rfthrl',\n",
       " 'v00retlpl',\n",
       " 'v00rethpl',\n",
       " 'v00retlrl',\n",
       " 'v00rethrl',\n",
       " 'v00rkdefcv',\n",
       " 'p01kpnr12',\n",
       " 'p01kpr12cv',\n",
       " 'p02famhxkr',\n",
       " 'p01famhr',\n",
       " 'p01famkr',\n",
       " 'p01brohrcv',\n",
       " 'p01momkrcv',\n",
       " 'p01dadkrcv',\n",
       " 'p01siskrcv',\n",
       " 'p01brokrcv',\n",
       " 'p01injr',\n",
       " 'p01ksurgr',\n",
       " 'p01hrs',\n",
       " 'v00diab',\n",
       " 'v00fall',\n",
       " 'v00nsaids',\n",
       " 'v00nsaidrx',\n",
       " 'v00coxibs',\n",
       " 'v00narcot',\n",
       " 'p01kpnrev',\n",
       " 'p01bp30',\n",
       " 'v00wprkn1',\n",
       " 'v00wprkn2',\n",
       " 'v00wprkn3',\n",
       " 'v00wprkn4',\n",
       " 'v00wprkn5',\n",
       " 'v00kprkn1',\n",
       " 'v00kprkn2',\n",
       " 'v00kprkn3',\n",
       " 'v00p7rkfr',\n",
       " 'v00ksxrkn1',\n",
       " 'v00ksxrkn2',\n",
       " 'v00ksxrkn4',\n",
       " 'v00ksxrkn5',\n",
       " 'p02kpnrcv',\n",
       " 'p01kpr30cv',\n",
       " 'v00kooskpr',\n",
       " 'v00womstfr',\n",
       " 'v00koosymr',\n",
       " 'v00womadlr',\n",
       " 'v00p7rkrcv',\n",
       " 'p01pmrkrcv',\n",
       " 'v00womtsr',\n",
       " 'p01rksx',\n",
       " 'p01rsxkoa',\n",
       " 'p01ksx',\n",
       " 'p01bl12sxr']"
      ]
     },
     "execution_count": 140,
     "metadata": {},
     "output_type": "execute_result"
    }
   ],
   "source": [
    "featurenames4"
   ]
  },
  {
   "cell_type": "code",
   "execution_count": 5,
   "metadata": {},
   "outputs": [
    {
     "name": "stdout",
     "output_type": "stream",
     "text": [
      "Fitting 5 folds for each of 108 candidates, totalling 540 fits\n"
     ]
    },
    {
     "name": "stderr",
     "output_type": "stream",
     "text": [
      "[Parallel(n_jobs=-1)]: Using backend LokyBackend with 8 concurrent workers.\n",
      "[Parallel(n_jobs=-1)]: Done  34 tasks      | elapsed:    6.5s\n",
      "[Parallel(n_jobs=-1)]: Done 184 tasks      | elapsed:   17.9s\n",
      "[Parallel(n_jobs=-1)]: Done 434 tasks      | elapsed:   37.1s\n"
     ]
    },
    {
     "name": "stdout",
     "output_type": "stream",
     "text": [
      "Best: 0.718166 using {'gamma': 0.2, 'learning_rate': 0.1, 'max_depth': 10, 'min_child_weight': 3, 'n_estimators': 25}\n"
     ]
    },
    {
     "name": "stderr",
     "output_type": "stream",
     "text": [
      "[Parallel(n_jobs=-1)]: Done 540 out of 540 | elapsed:   45.1s finished\n"
     ]
    },
    {
     "data": {
      "text/plain": [
       "{'gamma': 0.2,\n",
       " 'learning_rate': 0.1,\n",
       " 'max_depth': 10,\n",
       " 'min_child_weight': 3,\n",
       " 'n_estimators': 25,\n",
       " 'objective': 'binary:logistic',\n",
       " 'eval_metric': 'auc'}"
      ]
     },
     "execution_count": 5,
     "metadata": {},
     "output_type": "execute_result"
    }
   ],
   "source": [
    "# encode string class values as integers\n",
    "label_encoded_y = LabelEncoder().fit_transform(y)\n",
    "\n",
    "# grid search\n",
    "model = XGBClassifier()\n",
    "#n_estimators = [25,50,75,250]\n",
    "#learning_rate=[0.2, 0.1, 0.05, 0.005]\n",
    "#gamma=[0, 0.1,0.2,0.5]\n",
    "#max_depth = [2,4,5,10,30,100]\n",
    "#min_child_weight=[1,2,3,5,10,30]\n",
    "n_estimators = [25,50]\n",
    "learning_rate=[0.2, 0.1, 0.05]\n",
    "gamma=[0.2, 0.1, 0]\n",
    "max_depth = [30, 10, 5]\n",
    "min_child_weight=[3, 2]\n",
    "\n",
    "param_grid = dict(max_depth=max_depth, n_estimators=n_estimators, gamma=gamma, \n",
    "                  learning_rate=learning_rate,min_child_weight=min_child_weight)\n",
    "kfold = StratifiedKFold(n_splits=5, shuffle=True, random_state=7)\n",
    "grid_search = GridSearchCV(model, param_grid, scoring=\"roc_auc\", n_jobs=-1, cv=kfold, verbose=1)\n",
    "grid_result = grid_search.fit(X, label_encoded_y)\n",
    "\n",
    "# summarize results\n",
    "print(\"Best: %f using %s\" % (grid_result.best_score_, grid_result.best_params_))\n",
    "means = grid_result.cv_results_['mean_test_score']\n",
    "stds = grid_result.cv_results_['std_test_score']\n",
    "params = grid_result.cv_results_['params']\n",
    "#for mean, stdev, param in zip(means, stds, params):\n",
    "#\tprint(\"%f (%f) with: %r\" % (mean, stdev, param))\n",
    "\n",
    "param=grid_result.best_params_\n",
    "param.update([('objective', 'binary:logistic'), ('eval_metric', 'auc')])\n",
    "param"
   ]
  },
  {
   "cell_type": "code",
   "execution_count": 7,
   "metadata": {},
   "outputs": [],
   "source": [
    "#define parameters from the gridsearch\n",
    "param = {'n_estimators': 50,\n",
    "    'learning_rate':0.1,\n",
    "    'lambda': 20,\n",
    "    'eta': 0.1,\n",
    "    'gamma': 0,\n",
    "    'max_depth': 10,  \n",
    "    'objective': 'binary:logistic', \n",
    "    'min_child_weight': 3,\n",
    "    'reg_lambda': 0,\n",
    "    'reg_alpha': 1,\n",
    "    'max_delta_step': 100,\n",
    "    'subsample': 0.7,\n",
    "    'colsample_bytree': 0.6,\n",
    "    'eval_metric': 'auc'}"
   ]
  },
  {
   "cell_type": "code",
   "execution_count": 8,
   "metadata": {
    "scrolled": true
   },
   "outputs": [
    {
     "name": "stdout",
     "output_type": "stream",
     "text": [
      "[13:17:15] WARNING: C:\\Users\\Administrator\\workspace\\xgboost-win64_release_1.1.0\\src\\learner.cc:480: \n",
      "Parameters: { n_estimators } might not be used.\n",
      "\n",
      "  This may not be accurate due to some parameters are only used in language bindings but\n",
      "  passed down to XGBoost core.  Or some parameters are not used but slip through this\n",
      "  verification. Please open an issue if you find above cases.\n",
      "\n",
      "\n",
      "[0]\tval-auc:0.60974\ttrain-auc:0.75443\n",
      "[1]\tval-auc:0.61266\ttrain-auc:0.82531\n",
      "[2]\tval-auc:0.64838\ttrain-auc:0.86560\n",
      "[3]\tval-auc:0.66061\ttrain-auc:0.88852\n",
      "[4]\tval-auc:0.67089\ttrain-auc:0.89536\n",
      "[5]\tval-auc:0.68041\ttrain-auc:0.90440\n",
      "[6]\tval-auc:0.68647\ttrain-auc:0.91043\n",
      "[7]\tval-auc:0.70022\ttrain-auc:0.91561\n",
      "[8]\tval-auc:0.69329\ttrain-auc:0.91912\n",
      "[9]\tval-auc:0.71710\ttrain-auc:0.92349\n",
      "[10]\tval-auc:0.71385\ttrain-auc:0.92949\n",
      "[11]\tval-auc:0.71082\ttrain-auc:0.93249\n",
      "[12]\tval-auc:0.73030\ttrain-auc:0.94172\n",
      "[13]\tval-auc:0.74221\ttrain-auc:0.94320\n",
      "[14]\tval-auc:0.75238\ttrain-auc:0.94467\n",
      "[15]\tval-auc:0.75433\ttrain-auc:0.94985\n",
      "[16]\tval-auc:0.76191\ttrain-auc:0.95452\n",
      "[17]\tval-auc:0.76061\ttrain-auc:0.95593\n",
      "[18]\tval-auc:0.75931\ttrain-auc:0.95776\n",
      "[19]\tval-auc:0.74589\ttrain-auc:0.95784\n",
      "0.7491844871330192\n"
     ]
    }
   ],
   "source": [
    "#param=grid_result.best_params_\n",
    "num_round = 20\n",
    "watchlist = [(D_val,'val'), (D_train,'train')]\n",
    "steps = 30 # The number of training iterations\n",
    "\n",
    "# train our model \n",
    "evals_result = {}\n",
    "model = xgb.train(param, D_train, num_round, watchlist, evals_result=evals_result)\n",
    "#model.save_model('/Users/gabby/Google Drive/Jae_ho_project/OA project/model_output/1_30_opt1.model') # save model\n",
    "    \n",
    "#Model Evaluation\n",
    "D_test = xgb.DMatrix(X_test, label=Y_test, feature_names=featurenames4)\n",
    "model.predict(D_test) #tell u the prediction values\n",
    "prediction =  model.predict(D_test)\n",
    "#np.savetxt('/Users/gabby/Google Drive/Jae_ho_project/OA project/model_output/pred_1_30.csv', prediction, delimiter=\",\")\n",
    "\n",
    "fpr1, tpr1, threshold4 = roc_curve(Y_test, prediction)\n",
    "roc_auc1 = auc(fpr1, tpr1)\n",
    "print(roc_auc1)"
   ]
  },
  {
   "cell_type": "code",
   "execution_count": 9,
   "metadata": {},
   "outputs": [
    {
     "data": {
      "text/plain": [
       "Text(0.5, 1.0, 'ROC Curve')"
      ]
     },
     "execution_count": 9,
     "metadata": {},
     "output_type": "execute_result"
    },
    {
     "data": {
      "image/png": "[encoded data removed]",
      "text/plain": [
       "<Figure size 360x360 with 1 Axes>"
      ]
     },
     "metadata": {
      "needs_background": "light"
     },
     "output_type": "display_data"
    }
   ],
   "source": [
    "#ROC Curve Generation\n",
    "\n",
    "fig = plt.figure(figsize=(5, 5))\n",
    "ax = fig.add_subplot(111)\n",
    "lw = 2\n",
    "ax.plot(fpr1, tpr1, color='darkorange',\n",
    "         lw=lw, label='ROC curve for F1 (area = %0.2f)' % roc_auc1, linestyle=\"-.\")\n",
    "\n",
    "ax.plot([0, 1], [0, 1], color='navy', lw=lw, linestyle='-')\n",
    "ax.set_xlim([0.0, 1.0])\n",
    "ax.set_ylim([0.0, 1.05])\n",
    "ax.set_xlabel('False Positive Rate', fontsize=10)\n",
    "ax.set_ylabel('True Positive Rate', fontsize=10)\n",
    "ax.set_title('ROC Curve', fontsize=14)"
   ]
  },
  {
   "cell_type": "code",
   "execution_count": 10,
   "metadata": {
    "scrolled": true
   },
   "outputs": [
    {
     "data": {
      "image/png": "[encoded data removed]",
      "text/plain": [
       "<Figure size 432x288 with 1 Axes>"
      ]
     },
     "metadata": {
      "needs_background": "light"
     },
     "output_type": "display_data"
    }
   ],
   "source": [
    "#Plot Important Features\n",
    "from xgboost import plot_importance\n",
    "\n",
    "plot_importance(model, max_num_features=20)\n",
    "pyplot.show()"
   ]
  },
  {
   "cell_type": "code",
   "execution_count": 11,
   "metadata": {},
   "outputs": [
    {
     "name": "stdout",
     "output_type": "stream",
     "text": [
      "Experimental variance 0.0135, computed vairance 0.0124, 1000 trials\n"
     ]
    }
   ],
   "source": [
    "import sklearn.datasets\n",
    "import sklearn.model_selection\n",
    "import sklearn.linear_model    \n",
    "import numpy\n",
    "import compare_auc_delong_xu\n",
    "import scipy.stats\n",
    "\n",
    "x_distr = scipy.stats.norm(0.5, 1)\n",
    "y_distr = scipy.stats.norm(-0.5, 1)\n",
    "sample_size_x = 7\n",
    "sample_size_y = 14\n",
    "n_trials = 1000\n",
    "aucs = numpy.empty(n_trials)\n",
    "variances = numpy.empty(n_trials)\n",
    "numpy.random.seed(1234235)\n",
    "labels = numpy.concatenate([numpy.ones(sample_size_x), numpy.zeros(sample_size_y)])\n",
    "for trial in range(n_trials):\n",
    "    scores = numpy.concatenate([\n",
    "        x_distr.rvs(sample_size_x),\n",
    "        y_distr.rvs(sample_size_y)])\n",
    "    aucs[trial] = sklearn.metrics.roc_auc_score(labels, scores)\n",
    "    auc_delong, variances[trial] = compare_auc_delong_xu.delong_roc_variance(\n",
    "        labels, scores)\n",
    "\n",
    "print(f\"Experimental variance {variances.mean():.4f}, \"\n",
    "      f\"computed vairance {aucs.var():.4f}, {n_trials} trials\")"
   ]
  },
  {
   "cell_type": "code",
   "execution_count": 24,
   "metadata": {},
   "outputs": [],
   "source": [
    "import compare_auc_delong_xu\n",
    "from compare_auc_delong_xu import compute_midrank\n",
    "from compare_auc_delong_xu import calc_pvalue"
   ]
  },
  {
   "cell_type": "code",
   "execution_count": 28,
   "metadata": {},
   "outputs": [],
   "source": [
    "prediction2 = prediction + 0.02"
   ]
  },
  {
   "cell_type": "code",
   "execution_count": 29,
   "metadata": {},
   "outputs": [
    {
     "data": {
      "text/plain": [
       "array([[nan]])"
      ]
     },
     "execution_count": 29,
     "metadata": {},
     "output_type": "execute_result"
    }
   ],
   "source": [
    "delong_roc_test(Y_test, prediction, prediction2)"
   ]
  },
  {
   "cell_type": "code",
   "execution_count": 27,
   "metadata": {},
   "outputs": [
    {
     "data": {
      "text/plain": [
       "array([0.11088975, 0.17758095, 0.11179048, 0.15486132, 0.1277028 ,\n",
       "       0.13619405, 0.45305863, 0.16715795, 0.08979423, 0.23098822,\n",
       "       0.30689624, 0.14779514, 0.18448015, 0.18880361, 0.28571615,\n",
       "       0.09110492, 0.15550698, 0.23645177, 0.2599309 , 0.3648794 ,\n",
       "       0.10884392, 0.13537925, 0.32794517, 0.35693923, 0.24987954,\n",
       "       0.4551843 , 0.2403187 , 0.32154083, 0.10226031, 0.12747552,\n",
       "       0.11139499, 0.32770193, 0.21139368, 0.1024398 , 0.259557  ,\n",
       "       0.29287243, 0.19072074, 0.12663755, 0.5302344 , 0.2776843 ,\n",
       "       0.29521707, 0.12014004, 0.24030145, 0.19929935, 0.252625  ,\n",
       "       0.3027659 , 0.0976107 , 0.34502465, 0.1369279 , 0.1031486 ,\n",
       "       0.19840209, 0.17838398, 0.4984482 , 0.11085301, 0.2250152 ,\n",
       "       0.08748351, 0.10903669, 0.30814072, 0.21303925, 0.34567702,\n",
       "       0.22321619, 0.30828077, 0.1090849 , 0.13626766, 0.45346493,\n",
       "       0.12212184, 0.1743156 , 0.10735949, 0.09117358, 0.46402588,\n",
       "       0.15329875, 0.40295687, 0.2422161 , 0.12169439, 0.13813709,\n",
       "       0.38162163, 0.32848257, 0.17537276, 0.2305794 , 0.21745011,\n",
       "       0.30501124, 0.19863278, 0.14785655, 0.22657217, 0.26565853,\n",
       "       0.3894594 , 0.1751605 , 0.09698009, 0.09493802, 0.10272054,\n",
       "       0.136483  , 0.19905758, 0.18376398, 0.11958254, 0.2104283 ,\n",
       "       0.3828042 , 0.35086393, 0.50633574, 0.10000809, 0.41604528,\n",
       "       0.3336938 , 0.15173236, 0.15792908, 0.17501514, 0.19991483,\n",
       "       0.5279916 , 0.133737  , 0.21078013, 0.11681706, 0.30514005,\n",
       "       0.53511614, 0.12970856, 0.56566036, 0.1478542 , 0.2286746 ,\n",
       "       0.17043331, 0.24152896, 0.34565234, 0.22020599, 0.08063895,\n",
       "       0.16431826, 0.4770126 , 0.17299247, 0.46576923, 0.17821302,\n",
       "       0.14907405, 0.18354745, 0.29108176, 0.39930192, 0.3624434 ,\n",
       "       0.17386447, 0.29454207, 0.09684365, 0.10366845, 0.32755485,\n",
       "       0.1658566 , 0.289524  , 0.35972494, 0.0806663 , 0.36525467,\n",
       "       0.1465531 , 0.0807109 , 0.22865401, 0.5540041 , 0.2727844 ,\n",
       "       0.32904166, 0.4098037 , 0.12028455, 0.2920933 , 0.11005747,\n",
       "       0.12688813, 0.23473583, 0.0976107 , 0.12572591, 0.22778378,\n",
       "       0.18857844, 0.12169407, 0.15039442, 0.23107396, 0.26965833,\n",
       "       0.09595296, 0.11332531, 0.11139289, 0.11131902, 0.10362589,\n",
       "       0.10042614, 0.3665277 , 0.15028954, 0.11492018, 0.16021788,\n",
       "       0.487441  , 0.2414724 , 0.08719348, 0.27777934, 0.3216308 ,\n",
       "       0.19991021, 0.15639772, 0.10635763, 0.19739728, 0.10153784,\n",
       "       0.17491663, 0.3495107 , 0.21212257, 0.29546413, 0.17656375,\n",
       "       0.16389878, 0.19040245, 0.1017786 , 0.0973526 , 0.10366089,\n",
       "       0.0806663 , 0.1134066 , 0.19871075, 0.35032848, 0.10070405,\n",
       "       0.16155264, 0.3839882 , 0.12389596, 0.1387237 , 0.30582592,\n",
       "       0.14567322, 0.17387532, 0.19312623, 0.21053456, 0.32318172,\n",
       "       0.2389792 , 0.12785052, 0.26559708, 0.21900637], dtype=float32)"
      ]
     },
     "execution_count": 27,
     "metadata": {},
     "output_type": "execute_result"
    }
   ],
   "source": [
    "prediction"
   ]
  },
  {
   "cell_type": "code",
   "execution_count": null,
   "metadata": {},
   "outputs": [],
   "source": [
    "median(prediction)"
   ]
  },
  {
   "cell_type": "code",
   "execution_count": null,
   "metadata": {},
   "outputs": [],
   "source": []
  }
 ],
 "metadata": {
  "kernelspec": {
   "display_name": "Python 3",
   "language": "python",
   "name": "python3"
  },
  "language_info": {
   "codemirror_mode": {
    "name": "ipython",
    "version": 3
   },
   "file_extension": ".py",
   "mimetype": "text/x-python",
   "name": "python",
   "nbconvert_exporter": "python",
   "pygments_lexer": "ipython3",
   "version": "3.7.6"
  }
 },
 "nbformat": 4,
 "nbformat_minor": 2
}
